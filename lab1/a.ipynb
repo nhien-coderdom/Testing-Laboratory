{
 "cells": [
  {
   "cell_type": "code",
   "execution_count": 2,
   "id": "7e8a802b",
   "metadata": {},
   "outputs": [],
   "source": [
    "!python3 gen-test.py > testcase.txt"
   ]
  },
  {
   "cell_type": "code",
   "execution_count": 3,
   "id": "5c58726b",
   "metadata": {},
   "outputs": [
    {
     "name": "stdout",
     "output_type": "stream",
     "text": [
      "110\n",
      "88\n",
      "40\n",
      "77\n",
      "86\n",
      "51\n",
      "190\n",
      "88\n",
      "188\n",
      "8\n"
     ]
    }
   ],
   "source": [
    "!./a.out < testcase.txt > output.txt\n",
    "!cat output.txt"
   ]
  },
  {
   "cell_type": "markdown",
   "id": "fd48d123",
   "metadata": {},
   "source": [
    "Mô tả hàm số f1(x) :\n",
    "- f1(x) = 2x với x > 10\n",
    "- f1(x) = -x với x <= 10"
   ]
  },
  {
   "cell_type": "markdown",
   "id": "c0d86c39",
   "metadata": {},
   "source": []
  },
  {
   "cell_type": "markdown",
   "id": "3bece4f8",
   "metadata": {},
   "source": [
    "Với một số bất kì (số tự nhiên) thuật toán hoạt động hiệu quả, đúng yêu cầu."
   ]
  }
 ],
 "metadata": {
  "kernelspec": {
   "display_name": "Python 3",
   "language": "python",
   "name": "python3"
  },
  "language_info": {
   "codemirror_mode": {
    "name": "ipython",
    "version": 3
   },
   "file_extension": ".py",
   "mimetype": "text/x-python",
   "name": "python",
   "nbconvert_exporter": "python",
   "pygments_lexer": "ipython3",
   "version": "3.12.1"
  }
 },
 "nbformat": 4,
 "nbformat_minor": 5
}

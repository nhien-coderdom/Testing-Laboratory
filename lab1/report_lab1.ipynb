{
 "cells": [
  {
   "cell_type": "markdown",
   "id": "5d1a7255",
   "metadata": {},
   "source": [
    "# Lab1"
   ]
  },
  {
   "cell_type": "markdown",
   "id": "8a1e541f",
   "metadata": {},
   "source": [
    "## Verification and Validation"
   ]
  },
  {
   "cell_type": "markdown",
   "id": "9b1cc8c0",
   "metadata": {},
   "source": [
    "### Problem in System 1:\n",
    "\n",
    "There is no calculation or definition of the delta (discriminant) value; the code does not declare a delta variable or provide a specific formula for delta.\n",
    "\n",
    "The formulas for calculating x₁ and x₂ are incorrect both mathematically and syntactically in C++.\n",
    "<br> x₁ = (-b + √Δ) / 2 * a\n",
    "<br> x₂ = (-b - √Δ) / 2 * a"
   ]
  },
  {
   "cell_type": "markdown",
   "id": "46e65bb6",
   "metadata": {},
   "source": [
    "### Problem in System 2:\n",
    "\n",
    "The formulas for calculating x₁ and x₂ are incorrect both mathematically and syntactically in C++.\n",
    "<br> x₁ = (-b + √Δ) / (2 * a)\n",
    "<br> x₂ = (-b - √Δ) / (2 * a)"
   ]
  },
  {
   "cell_type": "markdown",
   "id": "2c7bd549",
   "metadata": {},
   "source": [
    "### General Problems in Both Systems:\n",
    "\n",
    "**When a = 0:**  \n",
    "The equation is no longer quadratic but becomes linear: 𝑏𝑥 + 𝑐 = 0.  \n",
    "However, both systems still use the quadratic formula, which leads to division by 2a = 0, causing a division by zero error.\n",
    "\n",
    "**When Δ < 0:**  \n",
    "The equation has no real solutions.  \n",
    "Both systems do not check for this condition and still attempt to compute the square root of Δ.  \n",
    "Since Δ is negative, sqrt(Δ) is not defined in the set of real numbers, resulting in an error."
   ]
  },
  {
   "cell_type": "markdown",
   "id": "f83b933a",
   "metadata": {},
   "source": [
    "## Test-cases:"
   ]
  },
  {
   "cell_type": "markdown",
   "id": "fcd22f08",
   "metadata": {},
   "source": [
    "### a)"
   ]
  },
  {
   "cell_type": "code",
   "execution_count": 2,
   "id": "7e8a802b",
   "metadata": {},
   "outputs": [],
   "source": [
    "!python3 gen-test.py > testcase.txt"
   ]
  },
  {
   "cell_type": "code",
   "execution_count": 1,
   "id": "5c58726b",
   "metadata": {},
   "outputs": [
    {
     "name": "stdout",
     "output_type": "stream",
     "text": [
      "48\n",
      "172\n",
      "44\n",
      "82\n",
      "116\n",
      "84\n",
      "76\n",
      "178\n",
      "80\n",
      "44\n"
     ]
    }
   ],
   "source": [
    "!./lab1_a.out < testcase.txt > output.txt\n",
    "!cat output.txt"
   ]
  },
  {
   "cell_type": "markdown",
   "id": "fd48d123",
   "metadata": {},
   "source": [
    "Description of the function f1(x):\n",
    "- f1(x) = 2x for x > 10\n",
    "- f1(x) = -x for x ≤ 10"
   ]
  },
  {
   "cell_type": "markdown",
   "id": "c0d86c39",
   "metadata": {},
   "source": [
    "There are 2 cases to be tested:\n",
    "<br>Case 1: input > 10  \n",
    "Case 2: input <= 10  \n",
    "&nbsp;&nbsp;&nbsp;&nbsp;- Test (positive value): 0 <= input < 10  \n",
    "&nbsp;&nbsp;&nbsp;&nbsp;- Test (negative value): input < 0  \n",
    "&nbsp;&nbsp;&nbsp;&nbsp;- Test input = 10"
   ]
  },
  {
   "cell_type": "markdown",
   "id": "3bece4f8",
   "metadata": {},
   "source": [
    "Với một số bất kì (số tự nhiên) thuật toán hoạt động hiệu quả, đúng yêu cầu."
   ]
  },
  {
   "cell_type": "markdown",
   "id": "34d145a4",
   "metadata": {},
   "source": [
    "### b)"
   ]
  },
  {
   "cell_type": "code",
   "execution_count": 7,
   "id": "ecf10db5",
   "metadata": {},
   "outputs": [
    {
     "name": "stdout",
     "output_type": "stream",
     "text": [
      "-48\n",
      "172\n",
      "44\n",
      "82\n",
      "116\n",
      "-168\n",
      "-152\n",
      "178\n",
      "80\n",
      "44\n"
     ]
    }
   ],
   "source": [
    "!./lab1_b.out < testcase.txt > output.txt\n",
    "!cat output.txt"
   ]
  },
  {
   "cell_type": "markdown",
   "id": "56831deb",
   "metadata": {},
   "source": [
    "Mô tả bài toán : f1(x)\n",
    "\n",
    "Ta có :\n",
    "\n",
    "f1(x) = 2x với x ∈ (-∞;0] ∪ [10;+∞)\n",
    "\n",
    "f1(x) = -x với x ∈ (0;10]"
   ]
  },
  {
   "cell_type": "markdown",
   "id": "13127081",
   "metadata": {},
   "source": [
    "### c)"
   ]
  },
  {
   "cell_type": "code",
   "execution_count": 4,
   "id": "a8e7d5bc",
   "metadata": {},
   "outputs": [
    {
     "name": "stdout",
     "output_type": "stream",
     "text": [
      "-48\n",
      "172\n",
      "4\n",
      "82\n",
      "116\n",
      "-168\n",
      "-152\n",
      "178\n",
      "80\n",
      "44\n"
     ]
    }
   ],
   "source": [
    "!./lab1_c.out < testcase.txt > output.txt\n",
    "!cat output.txt"
   ]
  },
  {
   "cell_type": "markdown",
   "id": "0e12f7bf",
   "metadata": {},
   "source": [
    "**Phân tích điều kiện**\n",
    "\n",
    "*Nhánh 1: if (x < 10)*\n",
    "\n",
    "Nếu đúng → trả về 2*x.\n",
    "\n",
    "Nghĩa là với mọi x < 10, chương trình kết thúc ở đây.\n",
    "\n",
    "*Nhánh 2: else if (x < 2)*\n",
    "\n",
    "Để chạy được nhánh này, cần x ≥ 10 (do else) và đồng thời x < 2.\n",
    "\n",
    "Nhưng điều kiện này vô lý (không tồn tại số nào vừa ≥ 10 vừa < 2).\n",
    "\n",
    "**Do đó, nhánh này là dead code (không bao giờ được thực thi).**\n",
    "\n",
    "*Nhánh 3 (else):*\n",
    "\n",
    "Xảy ra khi x ≥ 10.\n",
    "\n",
    "Trả về 2*x.\n",
    "\n",
    "**Kết quả là, mọi test case đều trả về 2*x.**"
   ]
  },
  {
   "cell_type": "markdown",
   "id": "73043b3b",
   "metadata": {},
   "source": [
    "### d)"
   ]
  },
  {
   "cell_type": "markdown",
   "id": "76154f3d",
   "metadata": {},
   "source": [
    "**Bài toán kiểm tra** log(x².cos(x)) nhỏ hơn hay lớn hơn 3x. Tuy nhiên, tất cả các giá trị trả về điều là 2x *làm cho điều kiện bài toán không có ý nghĩa.*\n",
    "\n",
    "Do đó với mọi testcase đều trả về cùng một giá trị.\n",
    "\n",
    "**Điều kiện để điều kiện bài toán có nghĩa** log(y) với y > 0. Trong đó:\n",
    "<br>. x² >= 0  ∀x ∈ R luôn luôn đúng.\n",
    "<br>. cos(x) > 0 (điều kiện xác định testcase).\n",
    "\n",
    "**Một số testcase có thể tập trung kiểm tra như :**\n",
    "- Với x = 10 → cos(10) ≈ -0.84 < 0\n",
    "- Với x = 2 → cos(2) ≈ -0.42 < 0\n",
    "- Với x = π/2 → cos(π/2) = 0 \n",
    "- Với x = 0 → cos(0) = 1 → log(0) (giá trị cần đặc biệt kiểm tra)\n",
    "\n",
    "**Tuy nhiên** hàm log() của cmath trong C++ không báo lỗi và dừng chương trình khi y <= 0 :\n",
    "- Nếu y = 0 → trả về -inf (âm vô cùng). Giá trị này nếu được so sánh với một số luôn trả về True.\n",
    "- Nếu y < 0 → trả về NaN (not-a-number). Giá trị này nếu được so sánh với một số luôn trả về False.\n",
    "\n",
    "**Do đó với bất kì testcase nào giá trị trả về vẫn là 2x**"
   ]
  },
  {
   "cell_type": "code",
   "execution_count": 5,
   "id": "1bed212a",
   "metadata": {},
   "outputs": [
    {
     "name": "stdout",
     "output_type": "stream",
     "text": [
      "-48\n",
      "172\n",
      "20\n",
      "82\n",
      "116\n",
      "-168\n",
      "-152\n",
      "178\n",
      "0\n",
      "4\n"
     ]
    }
   ],
   "source": [
    "!./lab1_d.out < testcase.txt > output.txt\n",
    "!cat output.txt"
   ]
  },
  {
   "cell_type": "markdown",
   "id": "2367dce9",
   "metadata": {},
   "source": [
    "### e)"
   ]
  },
  {
   "cell_type": "code",
   "execution_count": 11,
   "id": "e4673f8d",
   "metadata": {},
   "outputs": [
    {
     "name": "stdout",
     "output_type": "stream",
     "text": [
      "0\n",
      "72\n",
      "0\n",
      "27\n"
     ]
    }
   ],
   "source": [
    "!./lab1_e.out < testcase.txt > output.txt\n",
    "!cat output.txt"
   ]
  },
  {
   "cell_type": "markdown",
   "id": "851490cf",
   "metadata": {},
   "source": [
    "**Ví dụ các testcase** chứa 2/3 giá trị trùng nhau ouput sẽ không cho kết quả như mong đợi\n",
    "<br>3 3 -3\n",
    "<br>0 -39 72 \n",
    "<br>-66 82 82\n",
    "<br>-91 27 2\n",
    "\n",
    "**output**\n",
    "<br>0\n",
    "<br>72\n",
    "<br>0\n",
    "<br>27\n",
    "\n",
    "**Kết quả mong đợi**\n",
    "<br>3\n",
    "<br>72\n",
    "<br>82\n",
    "<br>27"
   ]
  },
  {
   "cell_type": "markdown",
   "id": "cff2edd0",
   "metadata": {},
   "source": [
    "## Practice:"
   ]
  },
  {
   "cell_type": "markdown",
   "id": "d40dd8d4",
   "metadata": {},
   "source": [
    "### Mô tả bài toán \n",
    "Giải phương trình bậc 4 dạng đặc biệt:\n",
    "<p align=\"center\">\n",
    "    a.x⁴ + b.x² + c = 0\n",
    "</p>\n",
    "**Trong đó:**\n",
    "\n",
    "𝑎, 𝑏, 𝑐 (input): là các hệ số thực do người dùng nhập hoặc các giá trị được truyền từ file\n",
    "\n",
    "𝑥 (output): là tất cả các nghiệm thực của phương trình (nếu có)\n",
    "\n",
    "**Yêu cầu bài toán :** tìm tất cả nghiệm thực (nếu có).\n",
    "\n",
    "**Ý tưởng giải bài toán**\n",
    "<br>Phương trình có dạng : a.x⁴ + b.x² + c = 0\n",
    "<br>Đặt, y = x²  \n",
    "<br>→ phương trình có dạng : a.y² + b.y + c = 0\n",
    "\n",
    "<br>Giải phương trình bậc 2 theo ẩn y với Δ = b² -4ac"
   ]
  },
  {
   "cell_type": "markdown",
   "id": "4f57d621",
   "metadata": {},
   "source": [
    "### Testcase đảm bảo tính đúng đắn của chương trình\n",
    "**Trường hợp vô số nghiệm**\n",
    "\n",
    "Input: a = 0, b = 0, c = 0\n",
    "\n",
    "Phương trình trở thành 0 = 0, ∀x ∈ R\n",
    "\n",
    "**Trường hợp vô nghiệm**\n",
    "\n",
    "Input: a = 0, b = 0, c = 5 (hằng số c ≠ 0)\n",
    "\n",
    "Phương trình trở thành 5 = 0 → phương trình vô nghiệm\n",
    "\n",
    "**Trường hợp bậc 2 có nghiệm thực**\n",
    "\n",
    "Input: a = 0, b = 2, c = -8\n",
    "\n",
    "2x² - 8 = 0 → x = ±2.\n",
    "\n",
    "**Trường hợp bậc 2 vô nghiệm**\n",
    "\n",
    "Input: a = 0, b = 1, c = 1\n",
    "\n",
    "Phương trình: x² + 1 = 0 → phương trình vô nghiệm (do x² >= 0 ∀x ∈ R)\n",
    "\n",
    "**Trường hợp Δ < 0 (không có nghiệm y thực, nên x cũng vô nghiệm)**\n",
    "\n",
    "Input: a = 1, b = 0, c = 1\n",
    "\n",
    "Phương trình: x⁴ + 1 = 0 → phương trình vô nghiệm (do x² >= 0 ∀x ∈ R)\n",
    "\n",
    "**Trường hợp Δ = 0 (nghiệm kép)**\n",
    "\n",
    "Input: a = 1, b = -2, c = 1\n",
    "\n",
    "Phương trình: (x² - 1)² = 0 → x = ±1 (mỗi nghiệm bội 2).\n",
    "\n",
    "**Trường hợp Δ > 0, có 4 nghiệm phân biệt**\n",
    "\n",
    "Input: a = 1, b = -5, c = 4 \n",
    "\n",
    "Phương trình: x⁴ - 5x² + 4 = 0 → Phương trình trở thành y² - 5y + 4 = 0 (đặt y=x²). \n",
    "<br>Ta có, Δ = 9 > 0 → y= ( -b  ± √Δ )/2a → y₁ = 1 và y₂ = 4 \n",
    "→ nghiệm x = ±1, ±2.\n",
    "\n",
    "**Trường hợp có nghiệm bằng 0**\n",
    "\n",
    "Input: a = 1, b = 0, c = 0\n",
    "\n",
    "Phương trình: x⁴ = 0 → nghiệm duy nhất x = 0.\n",
    "\n",
    "\n"
   ]
  },
  {
   "cell_type": "code",
   "execution_count": 6,
   "id": "76b0f1cf",
   "metadata": {},
   "outputs": [
    {
     "name": "stdout",
     "output_type": "stream",
     "text": [
      "Infinite solutions.\n",
      "No solution.\n",
      "The equation has 2 real solution(s): 2 -2 \n",
      "The equation has 2 real solution(s): 1 -1 \n",
      "No solution.\n",
      "The equation has 4 real solution(s): 2 -2 1 -1 \n",
      "The equation has 1 real solution(s): 0 \n"
     ]
    }
   ],
   "source": [
    "!./lab1_practice.out < testcase_practice.txt > output.txt\n",
    "!cat output.txt"
   ]
  }
 ],
 "metadata": {
  "kernelspec": {
   "display_name": "Python 3",
   "language": "python",
   "name": "python3"
  },
  "language_info": {
   "codemirror_mode": {
    "name": "ipython",
    "version": 3
   },
   "file_extension": ".py",
   "mimetype": "text/x-python",
   "name": "python",
   "nbconvert_exporter": "python",
   "pygments_lexer": "ipython3",
   "version": "3.12.1"
  }
 },
 "nbformat": 4,
 "nbformat_minor": 5
}

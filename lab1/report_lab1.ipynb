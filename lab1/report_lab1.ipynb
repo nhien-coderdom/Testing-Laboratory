{
 "cells": [
  {
   "cell_type": "markdown",
   "id": "5d1a7255",
   "metadata": {},
   "source": [
    "# Lab1"
   ]
  },
  {
   "cell_type": "markdown",
   "id": "fcd22f08",
   "metadata": {},
   "source": [
    "## a)"
   ]
  },
  {
   "cell_type": "code",
   "execution_count": 1,
   "id": "7e8a802b",
   "metadata": {},
   "outputs": [],
   "source": [
    "!python3 gen-test.py > testcase.txt"
   ]
  },
  {
   "cell_type": "code",
   "execution_count": 1,
   "id": "5c58726b",
   "metadata": {},
   "outputs": [
    {
     "name": "stdout",
     "output_type": "stream",
     "text": [
      "48\n",
      "172\n",
      "44\n",
      "82\n",
      "116\n",
      "84\n",
      "76\n",
      "178\n",
      "80\n",
      "44\n"
     ]
    }
   ],
   "source": [
    "!./lab1_a.out < testcase.txt > output.txt\n",
    "!cat output.txt"
   ]
  },
  {
   "cell_type": "markdown",
   "id": "fd48d123",
   "metadata": {},
   "source": [
    "Mô tả hàm số f1(x) :\n",
    "- f1(x) = 2x với x > 10\n",
    "- f1(x) = -x với x <= 10"
   ]
  },
  {
   "cell_type": "markdown",
   "id": "c0d86c39",
   "metadata": {},
   "source": [
    "Có 2 trường hợp cần thực hiện kiểm thử:\n",
    "TH1: input > 10 \n",
    "Th2: input <= 10\n",
    "    . Kiểm tra (giá trị dương) 0 <= input < 10 \n",
    "    . Kiểm tra (giá trị âm) input < 0\n",
    "    . kiểm tra giá trị input = 10"
   ]
  },
  {
   "cell_type": "markdown",
   "id": "3bece4f8",
   "metadata": {},
   "source": [
    "Với một số bất kì (số tự nhiên) thuật toán hoạt động hiệu quả, đúng yêu cầu."
   ]
  },
  {
   "cell_type": "markdown",
   "id": "34d145a4",
   "metadata": {},
   "source": [
    "## b)"
   ]
  },
  {
   "cell_type": "code",
   "execution_count": 7,
   "id": "ecf10db5",
   "metadata": {},
   "outputs": [
    {
     "name": "stdout",
     "output_type": "stream",
     "text": [
      "-48\n",
      "172\n",
      "44\n",
      "82\n",
      "116\n",
      "-168\n",
      "-152\n",
      "178\n",
      "80\n",
      "44\n"
     ]
    }
   ],
   "source": [
    "!./lab1_b.out < testcase.txt > output.txt\n",
    "!cat output.txt"
   ]
  },
  {
   "cell_type": "markdown",
   "id": "56831deb",
   "metadata": {},
   "source": [
    "Mô tả bài toán : f1(x)\n",
    "\n",
    "Ta có :\n",
    "\n",
    "f1(x) = 2x với x ∈ (-∞;0] ∪ [10;+∞)\n",
    "\n",
    "f1(x) = -x với x ∈ (0;10]"
   ]
  },
  {
   "cell_type": "markdown",
   "id": "13127081",
   "metadata": {},
   "source": [
    "## c)"
   ]
  },
  {
   "cell_type": "code",
   "execution_count": 4,
   "id": "a8e7d5bc",
   "metadata": {},
   "outputs": [
    {
     "name": "stdout",
     "output_type": "stream",
     "text": [
      "-48\n",
      "172\n",
      "4\n",
      "82\n",
      "116\n",
      "-168\n",
      "-152\n",
      "178\n",
      "80\n",
      "44\n"
     ]
    }
   ],
   "source": [
    "!./lab1_c.out < testcase.txt > output.txt\n",
    "!cat output.txt"
   ]
  },
  {
   "cell_type": "markdown",
   "id": "0e12f7bf",
   "metadata": {},
   "source": [
    "**Phân tích điều kiện**\n",
    "\n",
    "*Nhánh 1: if (x < 10)*\n",
    "\n",
    "Nếu đúng → trả về 2*x.\n",
    "\n",
    "Nghĩa là với mọi x < 10, chương trình kết thúc ở đây.\n",
    "\n",
    "*Nhánh 2: else if (x < 2)*\n",
    "\n",
    "Để chạy được nhánh này, cần x ≥ 10 (do else) và đồng thời x < 2.\n",
    "\n",
    "Nhưng điều kiện này vô lý (không tồn tại số nào vừa ≥ 10 vừa < 2).\n",
    "\n",
    "**Do đó, nhánh này là dead code (không bao giờ được thực thi).**\n",
    "\n",
    "*Nhánh 3 (else):*\n",
    "\n",
    "Xảy ra khi x ≥ 10.\n",
    "\n",
    "Trả về 2*x.\n",
    "\n",
    "**Kết quả là, mọi test case đều trả về 2*x.**"
   ]
  },
  {
   "cell_type": "markdown",
   "id": "73043b3b",
   "metadata": {},
   "source": [
    "## d)"
   ]
  },
  {
   "cell_type": "markdown",
   "id": "76154f3d",
   "metadata": {},
   "source": [
    "**Bài toán kiểm tra** log(x².cos(x)) nhỏ hơn hay lớn hơn 3x. Tuy nhiên, tất cả các giá trị trả về điều là 2x *làm cho điều kiện bài toán không có ý nghĩa.*\n",
    "\n",
    "Do đó với mọi testcase đều trả về cùng một giá trị.\n",
    "\n",
    "**Điều kiện để điều kiện bài toán có nghĩa** log(y) với y > 0. Trong đó:\n",
    "<br>. x² >= 0  ∀x ∈ R luôn luôn đúng.\n",
    "<br>. cos(x) > 0 (điều kiện xác định testcase).\n",
    "\n",
    "**Một số testcase có thể tập trung kiểm tra như :**\n",
    "- Với x = 10 → cos(10) ≈ -0.84 < 0\n",
    "- Với x = 2 → cos(2) ≈ -0.42 < 0\n",
    "- Với x = π/2 → cos(π/2) = 0 \n",
    "- Với x = 0 → cos(0) = 1 → log(0) (giá trị cần đặc biệt kiểm tra)\n",
    "\n",
    "**Tuy nhiên** hàm log() của cmath trong C++ không báo lỗi và dừng chương trình khi y <= 0 :\n",
    "- Nếu y = 0 → trả về -inf (âm vô cùng). Giá trị này nếu được so sánh với một số luôn trả về True.\n",
    "- Nếu y < 0 → trả về NaN (not-a-number). Giá trị này nếu được so sánh với một số luôn trả về False.\n",
    "\n",
    "**Do đó với bất kì testcase nào giá trị trả về vẫn là 2x**"
   ]
  },
  {
   "cell_type": "code",
   "execution_count": 5,
   "id": "1bed212a",
   "metadata": {},
   "outputs": [
    {
     "name": "stdout",
     "output_type": "stream",
     "text": [
      "-48\n",
      "172\n",
      "20\n",
      "82\n",
      "116\n",
      "-168\n",
      "-152\n",
      "178\n",
      "0\n",
      "4\n"
     ]
    }
   ],
   "source": [
    "!./lab1_d.out < testcase.txt > output.txt\n",
    "!cat output.txt"
   ]
  }
 ],
 "metadata": {
  "kernelspec": {
   "display_name": "Python 3",
   "language": "python",
   "name": "python3"
  },
  "language_info": {
   "codemirror_mode": {
    "name": "ipython",
    "version": 3
   },
   "file_extension": ".py",
   "mimetype": "text/x-python",
   "name": "python",
   "nbconvert_exporter": "python",
   "pygments_lexer": "ipython3",
   "version": "3.12.1"
  }
 },
 "nbformat": 4,
 "nbformat_minor": 5
}

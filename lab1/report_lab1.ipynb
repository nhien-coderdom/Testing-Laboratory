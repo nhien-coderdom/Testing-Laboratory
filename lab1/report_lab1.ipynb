{
 "cells": [
  {
   "cell_type": "markdown",
   "id": "5d1a7255",
   "metadata": {},
   "source": [
    "# Lab1"
   ]
  },
  {
   "cell_type": "markdown",
   "id": "8a1e541f",
   "metadata": {},
   "source": [
    "## Verification và Validation"
   ]
  },
  {
   "cell_type": "markdown",
   "id": "9b1cc8c0",
   "metadata": {},
   "source": [
    "### Vấn đề trong System 1:\n"
   ]
  },
  {
   "cell_type": "markdown",
   "id": "5cb4ee9d",
   "metadata": {},
   "source": [
    "\n",
    "Không có phép tính hoặc định nghĩa cho giá trị delta; mã code không khai báo biến delta hoặc cung cấp công thức cụ thể cho delta.\n",
    "\n",
    "Các công thức tính x₁ và x₂ đều sai cả về mặt toán học lẫn cú pháp trong C++.\n",
    "<br> x₁ = (-b + √Δ) / 2 * a\n",
    "<br> x₂ = (-b - √Δ) / 2 * a"
   ]
  },
  {
   "cell_type": "markdown",
   "id": "46e65bb6",
   "metadata": {},
   "source": [
    "### Vấn đề trong System 2:\n"
   ]
  },
  {
   "cell_type": "markdown",
   "id": "7907c0f1",
   "metadata": {},
   "source": [
    "\n",
    "Các công thức tính x₁ và x₂ đều sai cả về mặt toán học lẫn cú pháp trong C++.\n",
    "<br> x₁ = (-b + √Δ) / 2 * a\n",
    "<br> x₂ = (-b - √Δ) / 2 * a"
   ]
  },
  {
   "cell_type": "markdown",
   "id": "2c7bd549",
   "metadata": {},
   "source": [
    "### Các vấn đề chung ở cả hai hệ thống:\n"
   ]
  },
  {
   "cell_type": "markdown",
   "id": "bce56dac",
   "metadata": {},
   "source": [
    "\n",
    "Không có code kiểm tra các ngoại lệ dẫn đến chương trình có thể gặp lỗi khi thực thi với các giá trị đầu vào đặc biệt hoặc không hợp lệ.\n",
    "\n",
    "**Khi a = 0:**  \n",
    "Phương trình không còn là bậc hai mà trở thành phương trình bậc nhất: 𝑏𝑥 + 𝑐 = 0.  \n",
    "Tuy nhiên, cả hai hệ thống vẫn sử dụng công thức nghiệm bậc hai, dẫn đến phép chia cho 2a = 0, gây lỗi chia cho 0.\n",
    "\n",
    "**Khi Δ < 0:**  \n",
    "Phương trình không có nghiệm thực.  \n",
    "Cả hai hệ thống đều không kiểm tra điều kiện này mà vẫn tính căn bậc hai của Δ.  \n",
    "Vì Δ âm nên sqrt(Δ) không xác định trên tập số thực, dẫn đến lỗi."
   ]
  },
  {
   "cell_type": "markdown",
   "id": "f83b933a",
   "metadata": {},
   "source": [
    "## Test-cases:"
   ]
  },
  {
   "cell_type": "markdown",
   "id": "80e39a74",
   "metadata": {},
   "source": [
    "**Chạy chương trình python random các test-case ngẫu nhiên để thực hiện kiểm thử.**"
   ]
  },
  {
   "cell_type": "code",
   "execution_count": 2,
   "id": "7e8a802b",
   "metadata": {},
   "outputs": [],
   "source": [
    "!python3 gen-test.py > testcase.txt"
   ]
  },
  {
   "cell_type": "markdown",
   "id": "fcd22f08",
   "metadata": {},
   "source": [
    "### a)\n"
   ]
  },
  {
   "cell_type": "markdown",
   "id": "fd48d123",
   "metadata": {},
   "source": [
    "#### Mô tả hàm số f1(x):\n"
   ]
  },
  {
   "cell_type": "markdown",
   "id": "c953d275",
   "metadata": {},
   "source": [
    "- f1(x) = 2x   với  x > 10\n",
    "- f1(x) = -x   với  x ≤ 10\n",
    "\n",
    "Với x là một số nguyên."
   ]
  },
  {
   "cell_type": "markdown",
   "id": "c0d86c39",
   "metadata": {},
   "source": [
    "#### Test-case\n"
   ]
  },
  {
   "cell_type": "markdown",
   "id": "a2aab7ae",
   "metadata": {},
   "source": [
    "**<br>Trường hợp 1:** input > 10  \n",
    "**trường hợp 2:** input <= 10  \n",
    "&nbsp;&nbsp;&nbsp;&nbsp;- Test (giá trị dương): 0 <= input < 10  \n",
    "&nbsp;&nbsp;&nbsp;&nbsp;- Test (giá trị âm): input < 0  \n",
    "&nbsp;&nbsp;&nbsp;&nbsp;- Test input = 10"
   ]
  },
  {
   "cell_type": "markdown",
   "id": "3bece4f8",
   "metadata": {},
   "source": [
    "Với mọi số thực thuật toán hoạt động hiệu quả, đúng yêu cầu."
   ]
  },
  {
   "cell_type": "markdown",
   "id": "3ac29fdf",
   "metadata": {},
   "source": [
    "#### Chạy chương trình\n",
    "Input : testcase.txt\n",
    "\n",
    "Output : output.txt"
   ]
  },
  {
   "cell_type": "code",
   "execution_count": 1,
   "id": "5c58726b",
   "metadata": {},
   "outputs": [],
   "source": [
    "!./lab1_a.out < testcase.txt > output.txt "
   ]
  },
  {
   "cell_type": "markdown",
   "id": "4192939b",
   "metadata": {},
   "source": [
    "#### Kết quả"
   ]
  },
  {
   "cell_type": "code",
   "execution_count": 4,
   "id": "a93bda08",
   "metadata": {},
   "outputs": [
    {
     "data": {
      "text/html": [
       "<div>\n",
       "<style scoped>\n",
       "    .dataframe tbody tr th:only-of-type {\n",
       "        vertical-align: middle;\n",
       "    }\n",
       "\n",
       "    .dataframe tbody tr th {\n",
       "        vertical-align: top;\n",
       "    }\n",
       "\n",
       "    .dataframe thead th {\n",
       "        text-align: right;\n",
       "    }\n",
       "</style>\n",
       "<table border=\"1\" class=\"dataframe\">\n",
       "  <thead>\n",
       "    <tr style=\"text-align: right;\">\n",
       "      <th></th>\n",
       "      <th>Testcase</th>\n",
       "      <th>Output</th>\n",
       "    </tr>\n",
       "  </thead>\n",
       "  <tbody>\n",
       "    <tr>\n",
       "      <th>0</th>\n",
       "      <td>-96</td>\n",
       "      <td>96</td>\n",
       "    </tr>\n",
       "    <tr>\n",
       "      <th>1</th>\n",
       "      <td>41</td>\n",
       "      <td>82</td>\n",
       "    </tr>\n",
       "    <tr>\n",
       "      <th>2</th>\n",
       "      <td>-43</td>\n",
       "      <td>43</td>\n",
       "    </tr>\n",
       "    <tr>\n",
       "      <th>3</th>\n",
       "      <td>-90</td>\n",
       "      <td>90</td>\n",
       "    </tr>\n",
       "    <tr>\n",
       "      <th>4</th>\n",
       "      <td>51</td>\n",
       "      <td>102</td>\n",
       "    </tr>\n",
       "    <tr>\n",
       "      <th>5</th>\n",
       "      <td>64</td>\n",
       "      <td>128</td>\n",
       "    </tr>\n",
       "    <tr>\n",
       "      <th>6</th>\n",
       "      <td>38</td>\n",
       "      <td>76</td>\n",
       "    </tr>\n",
       "    <tr>\n",
       "      <th>7</th>\n",
       "      <td>4</td>\n",
       "      <td>-4</td>\n",
       "    </tr>\n",
       "    <tr>\n",
       "      <th>8</th>\n",
       "      <td>-54</td>\n",
       "      <td>54</td>\n",
       "    </tr>\n",
       "    <tr>\n",
       "      <th>9</th>\n",
       "      <td>1</td>\n",
       "      <td>-1</td>\n",
       "    </tr>\n",
       "    <tr>\n",
       "      <th>10</th>\n",
       "      <td>-5</td>\n",
       "      <td>5</td>\n",
       "    </tr>\n",
       "    <tr>\n",
       "      <th>11</th>\n",
       "      <td>4</td>\n",
       "      <td>-4</td>\n",
       "    </tr>\n",
       "  </tbody>\n",
       "</table>\n",
       "</div>"
      ],
      "text/plain": [
       "   Testcase Output\n",
       "0       -96     96\n",
       "1        41     82\n",
       "2       -43     43\n",
       "3       -90     90\n",
       "4        51    102\n",
       "5        64    128\n",
       "6        38     76\n",
       "7         4     -4\n",
       "8       -54     54\n",
       "9         1     -1\n",
       "10       -5      5\n",
       "11        4     -4"
      ]
     },
     "metadata": {},
     "output_type": "display_data"
    }
   ],
   "source": [
    "import pandas as pd\n",
    "\n",
    "with open('testcase.txt') as f:\n",
    "    testcases = [line.strip() for line in f.readlines()]\n",
    "with open('output.txt') as f:\n",
    "    outputs = [line.strip() for line in f.readlines()]\n",
    "min_len = min(len(testcases), len(outputs))\n",
    "# Remove the first element in testcases (it is the number of test cases)\n",
    "if len(testcases) > 0:\n",
    "    testcases = testcases[1:]\n",
    "    min_len = min(len(testcases), len(outputs))\n",
    "df = pd.DataFrame({\n",
    "    'Testcase': testcases[:min_len],\n",
    "    'Output': outputs[:min_len]\n",
    "})\n",
    "\n",
    "display(df)"
   ]
  },
  {
   "cell_type": "markdown",
   "id": "34d145a4",
   "metadata": {},
   "source": [
    "### b)"
   ]
  },
  {
   "cell_type": "markdown",
   "id": "56831deb",
   "metadata": {},
   "source": [
    "#### Mô tả bài toán :\n"
   ]
  },
  {
   "cell_type": "markdown",
   "id": "2872416e",
   "metadata": {},
   "source": [
    "**Ta có :**\n",
    "f1(x) = 2x với x ∈ (-∞;0] ∪ [10;+∞)\n",
    "\n",
    "f1(x) = -x với x ∈ (0;10]\n",
    "\n",
    "**Các trường hợp cần kiểm thử**\n",
    "- x có giá trị âm\n",
    "- x có giá trị = 10\n",
    "- x có giá trị = 0\n",
    "- x có giá trị dương < 10\n",
    "- x có giá trị dương > 10 "
   ]
  },
  {
   "cell_type": "markdown",
   "id": "1612a24c",
   "metadata": {},
   "source": [
    "#### Chạy chương trình\n",
    "Input : testcase.txt\n",
    "\n",
    "Output : output.txt"
   ]
  },
  {
   "cell_type": "code",
   "execution_count": 5,
   "id": "ecf10db5",
   "metadata": {},
   "outputs": [],
   "source": [
    "!./lab1_b.out < testcase.txt > output.txt"
   ]
  },
  {
   "cell_type": "markdown",
   "id": "4deb9a1a",
   "metadata": {},
   "source": [
    "#### Kết quả"
   ]
  },
  {
   "cell_type": "code",
   "execution_count": 6,
   "id": "0e2d3184",
   "metadata": {},
   "outputs": [
    {
     "data": {
      "text/html": [
       "<div>\n",
       "<style scoped>\n",
       "    .dataframe tbody tr th:only-of-type {\n",
       "        vertical-align: middle;\n",
       "    }\n",
       "\n",
       "    .dataframe tbody tr th {\n",
       "        vertical-align: top;\n",
       "    }\n",
       "\n",
       "    .dataframe thead th {\n",
       "        text-align: right;\n",
       "    }\n",
       "</style>\n",
       "<table border=\"1\" class=\"dataframe\">\n",
       "  <thead>\n",
       "    <tr style=\"text-align: right;\">\n",
       "      <th></th>\n",
       "      <th>Testcase</th>\n",
       "      <th>Output</th>\n",
       "    </tr>\n",
       "  </thead>\n",
       "  <tbody>\n",
       "    <tr>\n",
       "      <th>0</th>\n",
       "      <td>-96</td>\n",
       "      <td>-192</td>\n",
       "    </tr>\n",
       "    <tr>\n",
       "      <th>1</th>\n",
       "      <td>41</td>\n",
       "      <td>82</td>\n",
       "    </tr>\n",
       "    <tr>\n",
       "      <th>2</th>\n",
       "      <td>-43</td>\n",
       "      <td>-86</td>\n",
       "    </tr>\n",
       "    <tr>\n",
       "      <th>3</th>\n",
       "      <td>-90</td>\n",
       "      <td>-180</td>\n",
       "    </tr>\n",
       "    <tr>\n",
       "      <th>4</th>\n",
       "      <td>51</td>\n",
       "      <td>102</td>\n",
       "    </tr>\n",
       "    <tr>\n",
       "      <th>5</th>\n",
       "      <td>64</td>\n",
       "      <td>128</td>\n",
       "    </tr>\n",
       "    <tr>\n",
       "      <th>6</th>\n",
       "      <td>38</td>\n",
       "      <td>76</td>\n",
       "    </tr>\n",
       "    <tr>\n",
       "      <th>7</th>\n",
       "      <td>4</td>\n",
       "      <td>-4</td>\n",
       "    </tr>\n",
       "    <tr>\n",
       "      <th>8</th>\n",
       "      <td>-54</td>\n",
       "      <td>-108</td>\n",
       "    </tr>\n",
       "    <tr>\n",
       "      <th>9</th>\n",
       "      <td>1</td>\n",
       "      <td>-1</td>\n",
       "    </tr>\n",
       "    <tr>\n",
       "      <th>10</th>\n",
       "      <td>-5</td>\n",
       "      <td>-10</td>\n",
       "    </tr>\n",
       "    <tr>\n",
       "      <th>11</th>\n",
       "      <td>4</td>\n",
       "      <td>-4</td>\n",
       "    </tr>\n",
       "  </tbody>\n",
       "</table>\n",
       "</div>"
      ],
      "text/plain": [
       "   Testcase Output\n",
       "0       -96   -192\n",
       "1        41     82\n",
       "2       -43    -86\n",
       "3       -90   -180\n",
       "4        51    102\n",
       "5        64    128\n",
       "6        38     76\n",
       "7         4     -4\n",
       "8       -54   -108\n",
       "9         1     -1\n",
       "10       -5    -10\n",
       "11        4     -4"
      ]
     },
     "metadata": {},
     "output_type": "display_data"
    }
   ],
   "source": [
    "import pandas as pd\n",
    "\n",
    "with open('testcase.txt') as f:\n",
    "    testcases = [line.strip() for line in f.readlines()]\n",
    "with open('output.txt') as f:\n",
    "    outputs = [line.strip() for line in f.readlines()]\n",
    "min_len = min(len(testcases), len(outputs))\n",
    "# Remove the first element in testcases (it is the number of test cases)\n",
    "if len(testcases) > 0:\n",
    "    testcases = testcases[1:]\n",
    "    min_len = min(len(testcases), len(outputs))\n",
    "df = pd.DataFrame({\n",
    "    'Testcase': testcases[:min_len],\n",
    "    'Output': outputs[:min_len]\n",
    "})\n",
    "\n",
    "display(df)"
   ]
  },
  {
   "cell_type": "markdown",
   "id": "13127081",
   "metadata": {},
   "source": [
    "### c)"
   ]
  },
  {
   "cell_type": "markdown",
   "id": "0e12f7bf",
   "metadata": {},
   "source": [
    "#### Phân tích điều kiện bài toán\n"
   ]
  },
  {
   "cell_type": "markdown",
   "id": "f86315bc",
   "metadata": {},
   "source": [
    "\n",
    "**Nhánh 1: if (x < 10)**\n",
    "\n",
    "Nghĩa là với mọi x < 10, chương trình trả về 2x và kết thúc.\n",
    "\n",
    "**Nhánh 2: else if (x < 2)**\n",
    "\n",
    "Để chạy được nhánh này, cần x ≥ 10 (do else) và đồng thời x < 2.\n",
    "\n",
    "Nhưng điều kiện này vô lý (không tồn tại số nào vừa ≥ 10 vừa < 2).\n",
    "\n",
    "*Do đó, nhánh này là dead code (không bao giờ được thực thi).*\n",
    "\n",
    "**Nhánh 3 (else):**\n",
    "\n",
    "Xảy ra khi x ≥ 10.\n",
    "\n",
    "Trả về 2*x.\n",
    "\n",
    "**Kết quả là, mọi test case đều trả về 2*x.**"
   ]
  },
  {
   "cell_type": "markdown",
   "id": "c569ed1d",
   "metadata": {},
   "source": [
    "#### Chạy chương trình \n",
    "Input : testcase.txt\n",
    "\n",
    "Output : output.txt"
   ]
  },
  {
   "cell_type": "code",
   "execution_count": 7,
   "id": "a8e7d5bc",
   "metadata": {},
   "outputs": [],
   "source": [
    "!./lab1_c.out < testcase.txt > output.txt"
   ]
  },
  {
   "cell_type": "markdown",
   "id": "5cd4a7ea",
   "metadata": {},
   "source": [
    "#### Kết quả "
   ]
  },
  {
   "cell_type": "code",
   "execution_count": 8,
   "id": "07dc3301",
   "metadata": {},
   "outputs": [
    {
     "data": {
      "text/html": [
       "<div>\n",
       "<style scoped>\n",
       "    .dataframe tbody tr th:only-of-type {\n",
       "        vertical-align: middle;\n",
       "    }\n",
       "\n",
       "    .dataframe tbody tr th {\n",
       "        vertical-align: top;\n",
       "    }\n",
       "\n",
       "    .dataframe thead th {\n",
       "        text-align: right;\n",
       "    }\n",
       "</style>\n",
       "<table border=\"1\" class=\"dataframe\">\n",
       "  <thead>\n",
       "    <tr style=\"text-align: right;\">\n",
       "      <th></th>\n",
       "      <th>Testcase</th>\n",
       "      <th>Output</th>\n",
       "    </tr>\n",
       "  </thead>\n",
       "  <tbody>\n",
       "    <tr>\n",
       "      <th>0</th>\n",
       "      <td>-96</td>\n",
       "      <td>-192</td>\n",
       "    </tr>\n",
       "    <tr>\n",
       "      <th>1</th>\n",
       "      <td>41</td>\n",
       "      <td>82</td>\n",
       "    </tr>\n",
       "    <tr>\n",
       "      <th>2</th>\n",
       "      <td>-43</td>\n",
       "      <td>-86</td>\n",
       "    </tr>\n",
       "    <tr>\n",
       "      <th>3</th>\n",
       "      <td>-90</td>\n",
       "      <td>-180</td>\n",
       "    </tr>\n",
       "    <tr>\n",
       "      <th>4</th>\n",
       "      <td>51</td>\n",
       "      <td>102</td>\n",
       "    </tr>\n",
       "    <tr>\n",
       "      <th>5</th>\n",
       "      <td>64</td>\n",
       "      <td>128</td>\n",
       "    </tr>\n",
       "    <tr>\n",
       "      <th>6</th>\n",
       "      <td>38</td>\n",
       "      <td>76</td>\n",
       "    </tr>\n",
       "    <tr>\n",
       "      <th>7</th>\n",
       "      <td>4</td>\n",
       "      <td>8</td>\n",
       "    </tr>\n",
       "    <tr>\n",
       "      <th>8</th>\n",
       "      <td>-54</td>\n",
       "      <td>-108</td>\n",
       "    </tr>\n",
       "    <tr>\n",
       "      <th>9</th>\n",
       "      <td>1</td>\n",
       "      <td>2</td>\n",
       "    </tr>\n",
       "    <tr>\n",
       "      <th>10</th>\n",
       "      <td>-5</td>\n",
       "      <td>-10</td>\n",
       "    </tr>\n",
       "    <tr>\n",
       "      <th>11</th>\n",
       "      <td>4</td>\n",
       "      <td>8</td>\n",
       "    </tr>\n",
       "  </tbody>\n",
       "</table>\n",
       "</div>"
      ],
      "text/plain": [
       "   Testcase Output\n",
       "0       -96   -192\n",
       "1        41     82\n",
       "2       -43    -86\n",
       "3       -90   -180\n",
       "4        51    102\n",
       "5        64    128\n",
       "6        38     76\n",
       "7         4      8\n",
       "8       -54   -108\n",
       "9         1      2\n",
       "10       -5    -10\n",
       "11        4      8"
      ]
     },
     "metadata": {},
     "output_type": "display_data"
    }
   ],
   "source": [
    "import pandas as pd\n",
    "\n",
    "with open('testcase.txt') as f:\n",
    "    testcases = [line.strip() for line in f.readlines()]\n",
    "with open('output.txt') as f:\n",
    "    outputs = [line.strip() for line in f.readlines()]\n",
    "min_len = min(len(testcases), len(outputs))\n",
    "# Remove the first element in testcases (it is the number of test cases)\n",
    "if len(testcases) > 0:\n",
    "    testcases = testcases[1:]\n",
    "    min_len = min(len(testcases), len(outputs))\n",
    "df = pd.DataFrame({\n",
    "    'Testcase': testcases[:min_len],\n",
    "    'Output': outputs[:min_len]\n",
    "})\n",
    "\n",
    "display(df)"
   ]
  },
  {
   "cell_type": "markdown",
   "id": "73043b3b",
   "metadata": {},
   "source": [
    "### d)"
   ]
  },
  {
   "cell_type": "markdown",
   "id": "61813a5a",
   "metadata": {},
   "source": [
    "#### Mô tả bài toán"
   ]
  },
  {
   "cell_type": "markdown",
   "id": "76154f3d",
   "metadata": {},
   "source": [
    "**Bài toán kiểm tra** log(x².cos(x)) nhỏ hơn hay lớn hơn 3x. Tuy nhiên, tất cả các giá trị trả về điều là 2x *làm cho điều kiện bài toán không có ý nghĩa.*\n",
    "\n",
    "Do đó với mọi testcase đều trả về cùng một giá trị.\n",
    "\n",
    "**Điều kiện để điều kiện bài toán có nghĩa** log(y) với y > 0. Trong đó:\n",
    "<br>. x² >= 0  ∀x ∈ R luôn luôn đúng.\n",
    "<br>. cos(x) > 0 (điều kiện xác định testcase).\n",
    "\n",
    "**Một số testcase có thể tập trung kiểm tra như :**\n",
    "- Với x = 10 → cos(10) ≈ -0.84 < 0\n",
    "- Với x = 2 → cos(2) ≈ -0.42 < 0\n",
    "- Với x = π/2 → cos(π/2) = 0 (vì x được khai báo kiểu int nên có thể không cần kiểm tra test-case này)\n",
    "- Với x = 0 → cos(0) = 1 → log(0) (giá trị cần đặc biệt kiểm tra)\n",
    "\n",
    "**Tuy nhiên** hàm log() của cmath trong C++ không báo lỗi và dừng chương trình khi y <= 0 :\n",
    "- Nếu y = 0 → trả về -inf (âm vô cùng). Giá trị này nếu được so sánh với một số luôn trả về True.\n",
    "- Nếu y < 0 → trả về NaN (not-a-number). Giá trị này nếu được so sánh với một số luôn trả về False.\n",
    "\n",
    "**Do đó với bất kì testcase nào giá trị trả về vẫn là 2x**"
   ]
  },
  {
   "cell_type": "markdown",
   "id": "1162d168",
   "metadata": {},
   "source": [
    "#### Chạy chương trình\n",
    "Input : testcase.txt\n",
    "\n",
    "Output : output.txt"
   ]
  },
  {
   "cell_type": "code",
   "execution_count": 9,
   "id": "1bed212a",
   "metadata": {},
   "outputs": [],
   "source": [
    "!./lab1_d.out < testcase.txt > output.txt"
   ]
  },
  {
   "cell_type": "markdown",
   "id": "78d0600b",
   "metadata": {},
   "source": [
    "#### Kết quả"
   ]
  },
  {
   "cell_type": "code",
   "execution_count": 10,
   "id": "33829d2b",
   "metadata": {},
   "outputs": [
    {
     "data": {
      "text/html": [
       "<div>\n",
       "<style scoped>\n",
       "    .dataframe tbody tr th:only-of-type {\n",
       "        vertical-align: middle;\n",
       "    }\n",
       "\n",
       "    .dataframe tbody tr th {\n",
       "        vertical-align: top;\n",
       "    }\n",
       "\n",
       "    .dataframe thead th {\n",
       "        text-align: right;\n",
       "    }\n",
       "</style>\n",
       "<table border=\"1\" class=\"dataframe\">\n",
       "  <thead>\n",
       "    <tr style=\"text-align: right;\">\n",
       "      <th></th>\n",
       "      <th>Testcase</th>\n",
       "      <th>Output</th>\n",
       "    </tr>\n",
       "  </thead>\n",
       "  <tbody>\n",
       "    <tr>\n",
       "      <th>0</th>\n",
       "      <td>-96</td>\n",
       "      <td>-192</td>\n",
       "    </tr>\n",
       "    <tr>\n",
       "      <th>1</th>\n",
       "      <td>41</td>\n",
       "      <td>82</td>\n",
       "    </tr>\n",
       "    <tr>\n",
       "      <th>2</th>\n",
       "      <td>-43</td>\n",
       "      <td>-86</td>\n",
       "    </tr>\n",
       "    <tr>\n",
       "      <th>3</th>\n",
       "      <td>-90</td>\n",
       "      <td>-180</td>\n",
       "    </tr>\n",
       "    <tr>\n",
       "      <th>4</th>\n",
       "      <td>51</td>\n",
       "      <td>102</td>\n",
       "    </tr>\n",
       "    <tr>\n",
       "      <th>5</th>\n",
       "      <td>64</td>\n",
       "      <td>128</td>\n",
       "    </tr>\n",
       "    <tr>\n",
       "      <th>6</th>\n",
       "      <td>38</td>\n",
       "      <td>76</td>\n",
       "    </tr>\n",
       "    <tr>\n",
       "      <th>7</th>\n",
       "      <td>4</td>\n",
       "      <td>8</td>\n",
       "    </tr>\n",
       "    <tr>\n",
       "      <th>8</th>\n",
       "      <td>-54</td>\n",
       "      <td>-108</td>\n",
       "    </tr>\n",
       "    <tr>\n",
       "      <th>9</th>\n",
       "      <td>1</td>\n",
       "      <td>2</td>\n",
       "    </tr>\n",
       "    <tr>\n",
       "      <th>10</th>\n",
       "      <td>-5</td>\n",
       "      <td>-10</td>\n",
       "    </tr>\n",
       "    <tr>\n",
       "      <th>11</th>\n",
       "      <td>4</td>\n",
       "      <td>8</td>\n",
       "    </tr>\n",
       "  </tbody>\n",
       "</table>\n",
       "</div>"
      ],
      "text/plain": [
       "   Testcase Output\n",
       "0       -96   -192\n",
       "1        41     82\n",
       "2       -43    -86\n",
       "3       -90   -180\n",
       "4        51    102\n",
       "5        64    128\n",
       "6        38     76\n",
       "7         4      8\n",
       "8       -54   -108\n",
       "9         1      2\n",
       "10       -5    -10\n",
       "11        4      8"
      ]
     },
     "metadata": {},
     "output_type": "display_data"
    }
   ],
   "source": [
    "import pandas as pd\n",
    "\n",
    "with open('testcase.txt') as f:\n",
    "    testcases = [line.strip() for line in f.readlines()]\n",
    "with open('output.txt') as f:\n",
    "    outputs = [line.strip() for line in f.readlines()]\n",
    "min_len = min(len(testcases), len(outputs))\n",
    "# Remove the first element in testcases (it is the number of test cases)\n",
    "if len(testcases) > 0:\n",
    "    testcases = testcases[1:]\n",
    "    min_len = min(len(testcases), len(outputs))\n",
    "df = pd.DataFrame({\n",
    "    'Testcase': testcases[:min_len],\n",
    "    'Output': outputs[:min_len]\n",
    "})\n",
    "\n",
    "display(df)"
   ]
  },
  {
   "cell_type": "markdown",
   "id": "2367dce9",
   "metadata": {},
   "source": [
    "### e)"
   ]
  },
  {
   "cell_type": "markdown",
   "id": "fdb8f2db",
   "metadata": {},
   "source": [
    "#### Mô tả bài toán"
   ]
  },
  {
   "cell_type": "markdown",
   "id": "7b492d73",
   "metadata": {},
   "source": [
    "Bài toán tìm giá trị lớn nhất trong ba số tự nhiên num1, num2, num3.\n",
    "\n",
    "Khởi tạo giá trị max = 0.\n",
    "\n",
    "- Kiểm tra nếu num1 > num2 và num1 > num3 thì giá trị max được gán = num1.\n",
    "- Kiểm tra nếu num2 > num1 và num2 > num3 thì giá trị max được gán = num2.\n",
    "- Kiểm tra nếu num3 > num1 và num3 > num2 thì giá trị max được gán = num3.\n",
    "\n",
    "Chương trình trả về giá trị max.\n",
    "\n",
    "**Vấn đề của bài toán**\n",
    "Nếu test-case chứa ít nhất 2/3 giá trị bằng nhau là số lớn nhất theo kì vọng, chương trình sẽ trả về duy nhất giá trị max = 0.\n",
    "*VD : num1 = 10, num2 = 10, num3 = 5.  "
   ]
  },
  {
   "cell_type": "markdown",
   "id": "89f3c5f8",
   "metadata": {},
   "source": [
    "#### Test-case\n"
   ]
  },
  {
   "cell_type": "markdown",
   "id": "647c80c6",
   "metadata": {},
   "source": [
    "- 3 số bằng nhau.\n",
    "- Giá trị âm.\n",
    "- Giá trị dương\n",
    "- Các số bằng nhau lớn nhất.\n",
    "- Giá trị dương và giá trị âm."
   ]
  },
  {
   "cell_type": "markdown",
   "id": "92d8ed7b",
   "metadata": {},
   "source": [
    "#### Chạy chương trình"
   ]
  },
  {
   "cell_type": "code",
   "execution_count": 2,
   "id": "e4673f8d",
   "metadata": {},
   "outputs": [],
   "source": [
    "!./lab1_e.out < testcase.txt > output.txt"
   ]
  },
  {
   "cell_type": "markdown",
   "id": "b87dbaf7",
   "metadata": {},
   "source": [
    "#### Kết quả"
   ]
  },
  {
   "cell_type": "code",
   "execution_count": 1,
   "id": "11667701",
   "metadata": {},
   "outputs": [
    {
     "data": {
      "text/html": [
       "<div>\n",
       "<style scoped>\n",
       "    .dataframe tbody tr th:only-of-type {\n",
       "        vertical-align: middle;\n",
       "    }\n",
       "\n",
       "    .dataframe tbody tr th {\n",
       "        vertical-align: top;\n",
       "    }\n",
       "\n",
       "    .dataframe thead th {\n",
       "        text-align: right;\n",
       "    }\n",
       "</style>\n",
       "<table border=\"1\" class=\"dataframe\">\n",
       "  <thead>\n",
       "    <tr style=\"text-align: right;\">\n",
       "      <th></th>\n",
       "      <th>Testcase</th>\n",
       "      <th>Output</th>\n",
       "    </tr>\n",
       "  </thead>\n",
       "  <tbody>\n",
       "    <tr>\n",
       "      <th>0</th>\n",
       "      <td>96 41 41</td>\n",
       "      <td>96</td>\n",
       "    </tr>\n",
       "    <tr>\n",
       "      <th>1</th>\n",
       "      <td>-90 51 -90</td>\n",
       "      <td>51</td>\n",
       "    </tr>\n",
       "    <tr>\n",
       "      <th>2</th>\n",
       "      <td>38 38 54</td>\n",
       "      <td>54</td>\n",
       "    </tr>\n",
       "    <tr>\n",
       "      <th>3</th>\n",
       "      <td>1 -5 4</td>\n",
       "      <td>4</td>\n",
       "    </tr>\n",
       "  </tbody>\n",
       "</table>\n",
       "</div>"
      ],
      "text/plain": [
       "     Testcase Output\n",
       "0    96 41 41     96\n",
       "1  -90 51 -90     51\n",
       "2    38 38 54     54\n",
       "3      1 -5 4      4"
      ]
     },
     "metadata": {},
     "output_type": "display_data"
    }
   ],
   "source": [
    "import pandas as pd\n",
    "\n",
    "with open('testcase.txt') as f:\n",
    "    testcases = [line.strip() for line in f.readlines()]\n",
    "\n",
    "with open('output.txt') as f:\n",
    "    outputs = [line.strip() for line in f.readlines()]\n",
    "\n",
    "# Bỏ phần tử đầu tiên (chứa số lượng T)\n",
    "if len(testcases) > 0:\n",
    "    testcases = testcases[1:]\n",
    "\n",
    "# Gom 3 số liên tiếp thành 1 test case\n",
    "grouped_cases = []\n",
    "for i in range(0, len(testcases), 3):\n",
    "    if i + 2 < len(testcases):\n",
    "        grouped_cases.append(f\"{testcases[i]} {testcases[i+1]} {testcases[i+2]}\")\n",
    "\n",
    "# Đảm bảo đồng bộ số lượng test case và output\n",
    "min_len = min(len(grouped_cases), len(outputs))\n",
    "\n",
    "df = pd.DataFrame({\n",
    "    'Testcase': grouped_cases[:min_len],\n",
    "    'Output': outputs[:min_len]\n",
    "})\n",
    "\n",
    "display(df)\n"
   ]
  },
  {
   "cell_type": "markdown",
   "id": "cff2edd0",
   "metadata": {},
   "source": [
    "## Practice"
   ]
  },
  {
   "cell_type": "markdown",
   "id": "d40dd8d4",
   "metadata": {},
   "source": [
    "#### Mô tả bài toán \n"
   ]
  },
  {
   "cell_type": "markdown",
   "id": "868c7b5a",
   "metadata": {},
   "source": [
    "Giải phương trình bậc 4 dạng đặc biệt:\n",
    "<p align=\"center\">\n",
    "    a.x⁴ + b.x² + c = 0\n",
    "</p>\n",
    "\n",
    "**Trong đó:**\n",
    "\n",
    "𝑎, 𝑏, 𝑐 (input): là các hệ số thực do người dùng nhập hoặc các giá trị được truyền từ file\n",
    "\n",
    "𝑥 (output): là tất cả các nghiệm thực của phương trình (nếu có)\n",
    "\n",
    "**Yêu cầu bài toán :** tìm tất cả nghiệm thực (nếu có).\n",
    "\n",
    "**Ý tưởng giải bài toán**\n",
    "<br>Phương trình có dạng : a.x⁴ + b.x² + c = 0\n",
    "<br>Đặt, y = x²  \n",
    "<br>→ phương trình có dạng : a.y² + b.y + c = 0\n",
    "\n",
    "<br>Giải phương trình bậc 2 theo ẩn y với Δ = b² -4ac"
   ]
  },
  {
   "cell_type": "markdown",
   "id": "4f57d621",
   "metadata": {},
   "source": [
    "#### Testcase đảm bảo tính đúng đắn của chương trình\n"
   ]
  },
  {
   "cell_type": "markdown",
   "id": "a210b96c",
   "metadata": {},
   "source": [
    "**Trường hợp vô số nghiệm**\n",
    "\n",
    "Input: a = 0, b = 0, c = 0\n",
    "\n",
    "Phương trình trở thành 0 = 0, ∀x ∈ R\n",
    "\n",
    "**Trường hợp vô nghiệm**\n",
    "\n",
    "Input: a = 0, b = 0, c = 5 (hằng số c ≠ 0)\n",
    "\n",
    "Phương trình trở thành 5 = 0 → phương trình vô nghiệm\n",
    "\n",
    "**Trường hợp bậc 2 có nghiệm thực**\n",
    "\n",
    "Input: a = 0, b = 2, c = -8\n",
    "\n",
    "2x² - 8 = 0 → x = ±2.\n",
    "\n",
    "**Trường hợp bậc 2 vô nghiệm**\n",
    "\n",
    "Input: a = 0, b = 1, c = 1\n",
    "\n",
    "Phương trình: x² + 1 = 0 → phương trình vô nghiệm (do x² >= 0 ∀x ∈ R)\n",
    "\n",
    "**Trường hợp Δ < 0 (không có nghiệm y thực, nên x cũng vô nghiệm)**\n",
    "\n",
    "Input: a = 1, b = 0, c = 1\n",
    "\n",
    "Phương trình: x⁴ + 1 = 0 → phương trình vô nghiệm (do x² >= 0 ∀x ∈ R)\n",
    "\n",
    "**Trường hợp Δ = 0 (nghiệm kép)**\n",
    "\n",
    "Input: a = 1, b = -2, c = 1\n",
    "\n",
    "Phương trình: (x² - 1)² = 0 → x = ±1 (mỗi nghiệm bội 2).\n",
    "\n",
    "**Trường hợp Δ > 0, có 4 nghiệm phân biệt**\n",
    "\n",
    "Input: a = 1, b = -5, c = 4 \n",
    "\n",
    "Phương trình: x⁴ - 5x² + 4 = 0 → Phương trình trở thành y² - 5y + 4 = 0 (đặt y=x²). \n",
    "<br>Ta có, Δ = 9 > 0 → y= ( -b  ± √Δ )/2a → y₁ = 1 và y₂ = 4 \n",
    "→ nghiệm x = ±1, ±2.\n",
    "\n",
    "**Trường hợp có nghiệm bằng 0**\n",
    "\n",
    "Input: a = 1, b = 0, c = 0\n",
    "\n",
    "Phương trình: x⁴ = 0 → nghiệm duy nhất x = 0.\n",
    "\n",
    "\n"
   ]
  },
  {
   "cell_type": "markdown",
   "id": "e2ded440",
   "metadata": {},
   "source": [
    "#### Chạy chương trình"
   ]
  },
  {
   "cell_type": "code",
   "execution_count": 1,
   "id": "76b0f1cf",
   "metadata": {},
   "outputs": [],
   "source": [
    "!./lab1_practice.out < testcase_practice.txt > output.txt"
   ]
  },
  {
   "cell_type": "markdown",
   "id": "ddadbaae",
   "metadata": {},
   "source": [
    "#### Kết quả "
   ]
  },
  {
   "cell_type": "code",
   "execution_count": 3,
   "id": "e3e046d3",
   "metadata": {},
   "outputs": [
    {
     "data": {
      "text/html": [
       "<div>\n",
       "<style scoped>\n",
       "    .dataframe tbody tr th:only-of-type {\n",
       "        vertical-align: middle;\n",
       "    }\n",
       "\n",
       "    .dataframe tbody tr th {\n",
       "        vertical-align: top;\n",
       "    }\n",
       "\n",
       "    .dataframe thead th {\n",
       "        text-align: right;\n",
       "    }\n",
       "</style>\n",
       "<table border=\"1\" class=\"dataframe\">\n",
       "  <thead>\n",
       "    <tr style=\"text-align: right;\">\n",
       "      <th></th>\n",
       "      <th>Testcase</th>\n",
       "      <th>Output</th>\n",
       "    </tr>\n",
       "  </thead>\n",
       "  <tbody>\n",
       "    <tr>\n",
       "      <th>0</th>\n",
       "      <td>0 0 0</td>\n",
       "      <td>Infinite solutions.</td>\n",
       "    </tr>\n",
       "    <tr>\n",
       "      <th>1</th>\n",
       "      <td>0 0 5</td>\n",
       "      <td>No solution.</td>\n",
       "    </tr>\n",
       "    <tr>\n",
       "      <th>2</th>\n",
       "      <td>0 2 -8</td>\n",
       "      <td>The equation has 2 real solution(s): 2 -2</td>\n",
       "    </tr>\n",
       "    <tr>\n",
       "      <th>3</th>\n",
       "      <td>1 -2 1</td>\n",
       "      <td>The equation has 2 real solution(s): 1 -1</td>\n",
       "    </tr>\n",
       "    <tr>\n",
       "      <th>4</th>\n",
       "      <td>1 0 1</td>\n",
       "      <td>No solution.</td>\n",
       "    </tr>\n",
       "    <tr>\n",
       "      <th>5</th>\n",
       "      <td>1 -5 4</td>\n",
       "      <td>The equation has 4 real solution(s): 2 -2 1 -1</td>\n",
       "    </tr>\n",
       "    <tr>\n",
       "      <th>6</th>\n",
       "      <td>1 0 0</td>\n",
       "      <td>The equation has 1 real solution(s): 0</td>\n",
       "    </tr>\n",
       "  </tbody>\n",
       "</table>\n",
       "</div>"
      ],
      "text/plain": [
       "  Testcase                                          Output\n",
       "0    0 0 0                             Infinite solutions.\n",
       "1    0 0 5                                    No solution.\n",
       "2   0 2 -8       The equation has 2 real solution(s): 2 -2\n",
       "3   1 -2 1       The equation has 2 real solution(s): 1 -1\n",
       "4    1 0 1                                    No solution.\n",
       "5   1 -5 4  The equation has 4 real solution(s): 2 -2 1 -1\n",
       "6    1 0 0          The equation has 1 real solution(s): 0"
      ]
     },
     "metadata": {},
     "output_type": "display_data"
    }
   ],
   "source": [
    "import pandas as pd\n",
    "\n",
    "with open('testcase_practice.txt') as f:\n",
    "    testcases = [line.strip() for line in f.readlines()]\n",
    "\n",
    "with open('output.txt') as f:\n",
    "    outputs = [line.strip() for line in f.readlines()]\n",
    "\n",
    "# Bỏ dòng đầu tiên (chứa số lượng test case)\n",
    "if len(testcases) > 0:\n",
    "    testcases = testcases[1:]\n",
    "\n",
    "# Đồng bộ độ dài 2 list\n",
    "min_len = min(len(testcases), len(outputs))\n",
    "\n",
    "# Tạo DataFrame\n",
    "df = pd.DataFrame({\n",
    "    'Testcase': testcases[:min_len],\n",
    "    'Output': outputs[:min_len]\n",
    "})\n",
    "\n",
    "display(df)\n"
   ]
  }
 ],
 "metadata": {
  "kernelspec": {
   "display_name": "Python 3",
   "language": "python",
   "name": "python3"
  },
  "language_info": {
   "codemirror_mode": {
    "name": "ipython",
    "version": 3
   },
   "file_extension": ".py",
   "mimetype": "text/x-python",
   "name": "python",
   "nbconvert_exporter": "python",
   "pygments_lexer": "ipython3",
   "version": "3.12.1"
  }
 },
 "nbformat": 4,
 "nbformat_minor": 5
}
